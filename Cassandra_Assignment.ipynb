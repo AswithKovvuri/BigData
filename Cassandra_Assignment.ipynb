{
 "cells": [
  {
   "cell_type": "code",
   "execution_count": 2,
   "metadata": {},
   "outputs": [],
   "source": [
    "from cassandra.cluster import Cluster"
   ]
  },
  {
   "cell_type": "code",
   "execution_count": 3,
   "metadata": {},
   "outputs": [
    {
     "data": {
      "text/html": [
       "<div>\n",
       "<style scoped>\n",
       "    .dataframe tbody tr th:only-of-type {\n",
       "        vertical-align: middle;\n",
       "    }\n",
       "\n",
       "    .dataframe tbody tr th {\n",
       "        vertical-align: top;\n",
       "    }\n",
       "\n",
       "    .dataframe thead th {\n",
       "        text-align: right;\n",
       "    }\n",
       "</style>\n",
       "<table border=\"1\" class=\"dataframe\">\n",
       "  <thead>\n",
       "    <tr style=\"text-align: right;\">\n",
       "      <th></th>\n",
       "      <th>SKU</th>\n",
       "      <th>name</th>\n",
       "      <th>description</th>\n",
       "      <th>warehouse_num</th>\n",
       "    </tr>\n",
       "  </thead>\n",
       "  <tbody>\n",
       "    <tr>\n",
       "      <th>0</th>\n",
       "      <td>1</td>\n",
       "      <td>Samsung</td>\n",
       "      <td>SAMSUNG Galaxy F13</td>\n",
       "      <td>2</td>\n",
       "    </tr>\n",
       "    <tr>\n",
       "      <th>1</th>\n",
       "      <td>2</td>\n",
       "      <td>Itel</td>\n",
       "      <td>itel it2163S</td>\n",
       "      <td>4</td>\n",
       "    </tr>\n",
       "    <tr>\n",
       "      <th>2</th>\n",
       "      <td>5</td>\n",
       "      <td>Infinix</td>\n",
       "      <td>Infinix HOT 20 Play</td>\n",
       "      <td>2</td>\n",
       "    </tr>\n",
       "    <tr>\n",
       "      <th>3</th>\n",
       "      <td>6</td>\n",
       "      <td>Greenberri</td>\n",
       "      <td>GREENBERRI VIRAT</td>\n",
       "      <td>3</td>\n",
       "    </tr>\n",
       "    <tr>\n",
       "      <th>4</th>\n",
       "      <td>11</td>\n",
       "      <td>Mi</td>\n",
       "      <td>POCO C31</td>\n",
       "      <td>1</td>\n",
       "    </tr>\n",
       "  </tbody>\n",
       "</table>\n",
       "</div>"
      ],
      "text/plain": [
       "   SKU        name          description  warehouse_num\n",
       "0    1     Samsung   SAMSUNG Galaxy F13              2\n",
       "1    2        Itel         itel it2163S              4\n",
       "2    5     Infinix  Infinix HOT 20 Play              2\n",
       "3    6  Greenberri     GREENBERRI VIRAT              3\n",
       "4   11          Mi             POCO C31              1"
      ]
     },
     "execution_count": 3,
     "metadata": {},
     "output_type": "execute_result"
    }
   ],
   "source": [
    "import pandas as pd\n",
    "df=pd.read_csv('data.csv')\n",
    "df.head()"
   ]
  },
  {
   "cell_type": "code",
   "execution_count": 5,
   "metadata": {},
   "outputs": [],
   "source": [
    "clstr = Cluster()\n",
    "session = clstr.connect()"
   ]
  },
  {
   "cell_type": "code",
   "execution_count": 7,
   "metadata": {},
   "outputs": [
    {
     "data": {
      "text/plain": [
       "<cassandra.cluster.ResultSet at 0x7f3740ac8b50>"
      ]
     },
     "execution_count": 7,
     "metadata": {},
     "output_type": "execute_result"
    }
   ],
   "source": [
    "session.execute(\"CREATE KEYSPACE IF NOT EXISTS m14 WITH REPLICATION = {'class':'SimpleStrategy','replication_factor':'1'}\")"
   ]
  },
  {
   "cell_type": "code",
   "execution_count": 9,
   "metadata": {},
   "outputs": [
    {
     "data": {
      "text/plain": [
       "<cassandra.cluster.ResultSet at 0x7f3723295bd0>"
      ]
     },
     "execution_count": 9,
     "metadata": {},
     "output_type": "execute_result"
    }
   ],
   "source": [
    "session.execute(\"\"\" CREATE TABLE IF NOT EXISTS m14.inventory( \n",
    "    Sku TEXT,\n",
    "    name TEXT,\n",
    "    description TEXT,\n",
    "    warehouse_num TEXT,\n",
    "    PRIMARY KEY(sku))\n",
    "\"\"\")"
   ]
  },
  {
   "cell_type": "code",
   "execution_count": 12,
   "metadata": {},
   "outputs": [],
   "source": [
    "for index,row in df.iterrows():\n",
    "    session.execute(f\"\"\" INSERT INTO m14.inventory(sku,name,description,warehouse_num) VALUES('{row[0]}','{row[1]}','{row[2]}','{row[3]}')\"\"\")"
   ]
  },
  {
   "cell_type": "code",
   "execution_count": 14,
   "metadata": {},
   "outputs": [
    {
     "name": "stdout",
     "output_type": "stream",
     "text": [
      "Row(sku='6', description='GREENBERRI VIRAT', name='Greenberri', warehouse_num='3')\n",
      "Row(sku='16', description='APPLE iPhone 14', name='Apple', warehouse_num='1')\n",
      "Row(sku='19', description='MOTOROLA g52', name='Motorola', warehouse_num='3')\n",
      "Row(sku='5', description='Infinix HOT 20 Play', name='Infinix', warehouse_num='2')\n",
      "Row(sku='18', description='POCO M4 Pro', name='Mi', warehouse_num='2')\n",
      "Row(sku='28', description='Infinix Smart 6 HD', name='Infinix', warehouse_num='1')\n",
      "Row(sku='2', description='itel it2163S', name='Itel', warehouse_num='4')\n",
      "Row(sku='12', description='MOTOROLA G62 5G', name='Motorola', warehouse_num='4')\n",
      "Row(sku='29', description='MOTOROLA g31', name='Motorola', warehouse_num='1')\n",
      "Row(sku='11', description='POCO C31', name='Mi', warehouse_num='1')\n",
      "Row(sku='1', description='SAMSUNG Galaxy F13', name='Samsung', warehouse_num='2')\n"
     ]
    }
   ],
   "source": [
    "result = session.execute(\"SELECT * FROM m14.inventory\")\n",
    "for rows in result:\n",
    "    print(rows)\n",
    "        "
   ]
  },
  {
   "cell_type": "code",
   "execution_count": 16,
   "metadata": {},
   "outputs": [
    {
     "data": {
      "text/plain": [
       "<cassandra.cluster.ResultSet at 0x7f3721ff73d0>"
      ]
     },
     "execution_count": 16,
     "metadata": {},
     "output_type": "execute_result"
    }
   ],
   "source": [
    "session.execute(\"CREATE INDEX IF NOT EXISTS warehouse_index ON m14.inventory(warehouse_num)\")"
   ]
  },
  {
   "cell_type": "code",
   "execution_count": 18,
   "metadata": {},
   "outputs": [
    {
     "name": "stdout",
     "output_type": "stream",
     "text": [
      "Row(sku='16', description='APPLE iPhone 14', name='Apple', warehouse_num='1')\n",
      "Row(sku='28', description='Infinix Smart 6 HD', name='Infinix', warehouse_num='1')\n",
      "Row(sku='29', description='MOTOROLA g31', name='Motorola', warehouse_num='1')\n",
      "Row(sku='11', description='POCO C31', name='Mi', warehouse_num='1')\n"
     ]
    }
   ],
   "source": [
    "result =session.execute(\"SELECT * FROM m14.inventory WHERE warehouse_num='1'\")\n",
    "for rows in result:\n",
    "    print(rows)"
   ]
  },
  {
   "cell_type": "code",
   "execution_count": 19,
   "metadata": {},
   "outputs": [
    {
     "name": "stdout",
     "output_type": "stream",
     "text": [
      "Row(sku='5', description='Infinix HOT 20 Play', name='Infinix', warehouse_num='2')\n",
      "Row(sku='18', description='POCO M4 Pro', name='Mi', warehouse_num='2')\n",
      "Row(sku='1', description='SAMSUNG Galaxy F13', name='Samsung', warehouse_num='2')\n"
     ]
    }
   ],
   "source": [
    "result =session.execute(\"SELECT * FROM m14.inventory WHERE warehouse_num='2'\")\n",
    "for rows in result:\n",
    "    print(rows)"
   ]
  }
 ],
 "metadata": {
  "kernelspec": {
   "display_name": "base",
   "language": "python",
   "name": "python3"
  },
  "language_info": {
   "codemirror_mode": {
    "name": "ipython",
    "version": 3
   },
   "file_extension": ".py",
   "mimetype": "text/x-python",
   "name": "python",
   "nbconvert_exporter": "python",
   "pygments_lexer": "ipython3",
   "version": "3.10.8"
  },
  "orig_nbformat": 4,
  "vscode": {
   "interpreter": {
    "hash": "c774f5f42cb3e70515ef7cb909d9051370cc09a28b296d74902002ebc2249cb4"
   }
  }
 },
 "nbformat": 4,
 "nbformat_minor": 2
}
